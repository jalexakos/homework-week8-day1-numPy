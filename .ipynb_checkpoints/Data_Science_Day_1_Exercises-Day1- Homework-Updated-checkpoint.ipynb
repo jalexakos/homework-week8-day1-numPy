{
 "cells": [
  {
   "cell_type": "markdown",
   "metadata": {},
   "source": [
    "# Exercises"
   ]
  },
  {
   "cell_type": "markdown",
   "metadata": {},
   "source": [
    "### #1 - Calculate the BMI (body mass index) on the two lists below using NDArrays..."
   ]
  },
  {
   "cell_type": "code",
   "execution_count": 2,
   "metadata": {},
   "outputs": [
    {
     "name": "stdout",
     "output_type": "stream",
     "text": [
      "[16.86620458 17.87755102 18.82562984 19.71450617 20.54794521 21.32943755\n",
      " 22.06222222]\n"
     ]
    }
   ],
   "source": [
    "import numpy as np\n",
    "# formula = weight / (height**2) * 730\n",
    "height = [69, 70, 71, 72, 73, 74, 75]\n",
    "weight = [110, 120, 130, 140, 150, 160, 170]\n",
    "\n",
    "height_np = np.array(height)\n",
    "weight_np = np.array(weight)\n",
    "\n",
    "answer = (weight_np/(height_np**2)) * 730\n",
    "\n",
    "print(answer)\n"
   ]
  },
  {
   "cell_type": "markdown",
   "metadata": {},
   "source": [
    "### #2 - Create a function that will take in two parameters and will create a random matrix based off of those parameters. Extra: Have additional parameters taken in that allow the user to choose the shape and data type of the matrix."
   ]
  },
  {
   "cell_type": "code",
   "execution_count": 28,
   "metadata": {},
   "outputs": [
    {
     "name": "stdout",
     "output_type": "stream",
     "text": [
      "Here is a matrix of numbers between 0 and 7 of shape (2, 4):\n",
      "[[4 3 7 6]\n",
      " [3 1 1 1]]\n",
      "Here is a matrix of numbers between 1 and 16 of shape (4, 4):\n",
      "[[ 3.45953341 10.10785665  2.24409472 12.36380494]\n",
      " [10.32361687  2.54659484 13.83913266  8.05651644]\n",
      " [12.6348418  10.08980567 11.50925841  9.20282312]\n",
      " [ 2.67652039 15.10093368 11.89844885  6.87276223]]\n"
     ]
    }
   ],
   "source": [
    "# Example makeMatrix(param1,param2) -- Extra params can be added here as well\n",
    "\n",
    "# This is INCLUSIVE of the high\n",
    "# shape must be passed in as a tuple of two digits, and must be possible based on the \n",
    "# size of the range passed in. Also, the data_type can only be float or int\n",
    "def makeMatrix(low,high,shape,data_type = float):\n",
    "    if data_type == int:\n",
    "        size = np.multiply(shape[0],shape[1])\n",
    "        arr = np.random.randint(low,(high+1),size)\n",
    "        matrix = arr.reshape(shape)\n",
    "    else:\n",
    "        matrix = np.random.uniform(low, high, shape)\n",
    "    print(f\"Here is a matrix of numbers between {low} and {high} of shape {shape}:\")\n",
    "    print(f\"{matrix}\")\n",
    "\n",
    "makeMatrix(0,7,(2,4),int)\n",
    "makeMatrix(1,16,(4,4),float)"
   ]
  },
  {
   "cell_type": "markdown",
   "metadata": {},
   "source": [
    "### #3 - Extra: Open and load the data in the two text files that have the Boston Red Sox hitting data for the past seasons. Compare the difference in the two years by putting the data into an NDArray and running a differencial operation on it. The column to look for will be SLG.\n",
    "\n",
    "Your output should display which year (either 2017 or 2018) was a better year based on SLG"
   ]
  },
  {
   "cell_type": "code",
   "execution_count": 41,
   "metadata": {},
   "outputs": [
    {
     "name": "stdout",
     "output_type": "stream",
     "text": [
      "2017 had a higher average slugging percentage of 0.393347829580307, for a difference of 0.005847841501235962\n"
     ]
    }
   ],
   "source": [
    "FIELDS = ['Rk', 'Pos', 'Name', 'Age', 'G', 'PA', 'AB', 'R', 'H', '2B', '3B', 'HR', 'RBI', 'SB', 'CS', \n",
    "          'BB', 'SO', 'BA', 'OBP', 'SLG', 'OPS', 'OPS+', 'TB', 'GDP', 'HBP', 'SH', 'SF', 'IBB']\n",
    "\n",
    "DATATYPES = [('rk', 'i'), ('pos', '|S25'), ('name', '|S25'), ('age', 'i'), ('g', 'i'), ('pa', 'i'), ('ab', 'i'),\n",
    "                ('r', 'i'), ('h', 'i'), ('2b', 'i'), ('3b', 'i'), ('hr', 'i'), ('rbi', 'i'), ('sb', 'i'), ('cs', 'i'),\n",
    "                ('bb', 'i'), ('so', 'i'), ('ba', 'f'), ('obp', 'f'), ('slg', 'f'), ('ops', 'f'), ('opsp', 'i'),\n",
    "                ('tb', 'i'), ('gdp', 'i'), ('hbp', 'i'), ('sh', 'i'), ('sf', 'i'), ('ibb', 'i')]\n",
    "\n",
    "#Use this function to actually open the data inside of a NDArray\n",
    "\n",
    "def load_data(filename, d=','):\n",
    "    data = np.genfromtxt(filename,delimiter = d,skip_header = 1,\n",
    "                        usecols = np.arange(0,24), invalid_raise = False,\n",
    "                        names = FIELDS,dtype = DATATYPES)\n",
    "    return data\n",
    "\n",
    "sox2017 = load_data('../files/redsox_2017_hitting.txt')\n",
    "sox2018 = load_data('../files/redsox_2018_hitting.txt')\n",
    "\n",
    "def betterYear():\n",
    "    slg1 = np.average(sox2017['SLG'])\n",
    "    slg2 = np.average(sox2018['SLG'])\n",
    "    if slg1 > slg2:\n",
    "        print(f\"2017 had a higher average slugging percentage of {slg1}, for a difference of {slg1-slg2}\")\n",
    "    elif slg2 > slg1:\n",
    "        print(f\"2018 had a higher average slugging percentage of {slg2}, for a difference of {slg2-slg1}\")\n",
    "    else:\n",
    "        print(f\"Somehow, the averages are exactly the same...\")\n",
    "\n",
    "betterYear()\n",
    "\n",
    "        "
   ]
  }
 ],
 "metadata": {
  "kernelspec": {
   "display_name": "Python 3",
   "language": "python",
   "name": "python3"
  },
  "language_info": {
   "codemirror_mode": {
    "name": "ipython",
    "version": 3
   },
   "file_extension": ".py",
   "mimetype": "text/x-python",
   "name": "python",
   "nbconvert_exporter": "python",
   "pygments_lexer": "ipython3",
   "version": "3.7.6"
  }
 },
 "nbformat": 4,
 "nbformat_minor": 2
}
